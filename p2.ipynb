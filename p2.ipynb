{
 "cells": [
  {
   "cell_type": "code",
   "execution_count": 1,
   "id": "996b3b59",
   "metadata": {},
   "outputs": [
    {
     "data": {
      "text/plain": [
       "<matplotlib.collections.PathCollection at 0x1ce912d3ee0>"
      ]
     },
     "execution_count": 1,
     "metadata": {},
     "output_type": "execute_result"
    },
    {
     "data": {
      "image/png": "[encoded data removed]",
      "text/plain": [
       "<Figure size 432x288 with 1 Axes>"
      ]
     },
     "metadata": {
      "needs_background": "light"
     },
     "output_type": "display_data"
    }
   ],
   "source": [
    "import pandas as pd\n",
    "import numpy as np\n",
    "import matplotlib.pyplot as plt\n",
    "a=pd.read_csv('seattle-weather.csv')\n",
    "a\n",
    "a=a.drop(['date'],axis=1)\n",
    "a\n",
    "from sklearn.preprocessing import LabelEncoder\n",
    "a['weather'].value_counts()\n",
    "l=LabelEncoder()\n",
    "a['w']=l.fit_transform(a['weather'])\n",
    "a=a.drop(['weather'],axis=1)\n",
    "a\n",
    "from sklearn.model_selection import train_test_split\n",
    "a.columns\n",
    "x=a[['precipitation', 'temp_max', 'temp_min', 'wind']]\n",
    "y=a['w']\n",
    "x_train,x_test,y_train,y_test=train_test_split(x,y,test_size=0.1,random_state=10)\n",
    "from sklearn.linear_model import LinearRegression\n",
    "m=LinearRegression()\n",
    "m.fit(x_train,y_train)\n",
    "m.predict([[8.6,4.4,1.7,1.3]])\n",
    "y_predict=m.predict(x_test).round(0)\n",
    "y_test=y_test.round(0)\n",
    "from sklearn.metrics import f1_score\n",
    "f1_score(y_test,y_predict,average='micro')                                                                                             \n",
    "i=np.array(range(50))\n",
    "plt.scatter(i,y_predict[0:50])\n",
    "plt.scatter(i,y_test[0:50])"
   ]
  },
  {
   "cell_type": "code",
   "execution_count": null,
   "id": "a5a68251",
   "metadata": {},
   "outputs": [],
   "source": []
  }
 ],
 "metadata": {
  "kernelspec": {
   "display_name": "Python 3 (ipykernel)",
   "language": "python",
   "name": "python3"
  },
  "language_info": {
   "codemirror_mode": {
    "name": "ipython",
    "version": 3
   },
   "file_extension": ".py",
   "mimetype": "text/x-python",
   "name": "python",
   "nbconvert_exporter": "python",
   "pygments_lexer": "ipython3",
   "version": "3.9.7"
  }
 },
 "nbformat": 4,
 "nbformat_minor": 5
}

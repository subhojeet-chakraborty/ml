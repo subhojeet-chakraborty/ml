{
 "cells": [
  {
   "cell_type": "code",
   "execution_count": 1,
   "id": "1e2699f6",
   "metadata": {},
   "outputs": [
    {
     "name": "stdout",
     "output_type": "stream",
     "text": [
      "Input: \n",
      "[[0.66666667 1.        ]\n",
      " [0.33333333 0.55555556]\n",
      " [1.         0.66666667]]\n",
      "Actual Output: \n",
      "[[0.92]\n",
      " [0.86]\n",
      " [0.89]]\n",
      "Predicted Output: \n",
      " [[0.89221411]\n",
      " [0.88286105]\n",
      " [0.89510092]]\n"
     ]
    }
   ],
   "source": [
    "import numpy as np\n",
    "X = np.array(([2, 9], [1, 5], [3, 6]), dtype=float)\n",
    "y = np.array(([92], [86], [89]), dtype=float)\n",
    "X = X/np.amax(X,axis=0) # maximum of X array longitudinally\n",
    "y = y/100\n",
    "\n",
    "#Sigmoid Function\n",
    "def sigmoid (x):\n",
    "    return 1/(1 + np.exp(-x))\n",
    "\n",
    "#Derivative of Sigmoid Function\n",
    "def derivatives_sigmoid(x):\n",
    "    return x * (1 - x)\n",
    "\n",
    "#Variable initialization\n",
    "epoch=5000 \t#Setting training iterations\n",
    "lr=0.1 \t\t#Setting learning rate\n",
    "inputlayer_neurons = 2 \t\t#number of features in data set\n",
    "hiddenlayer_neurons = 3 \t#number of hidden layers neurons\n",
    "output_neurons = 1 \t\t#number of neurons at output layer\n",
    "\n",
    "#weight and bias initialization\n",
    "wh=np.random.uniform(size=(inputlayer_neurons,hiddenlayer_neurons))  #2,3\n",
    "bh=np.random.uniform(size=(1,hiddenlayer_neurons))                   #1,3\n",
    "wout=np.random.uniform(size=(hiddenlayer_neurons,output_neurons))    #3,1\n",
    "bout=np.random.uniform(size=(1,output_neurons))                      #1,1\n",
    "\n",
    "for i in range(epoch):\n",
    "#Forward Propogation \n",
    "    hinp=np.dot(X,wh)+ bh\n",
    "    hlayer_act = sigmoid(hinp)      #HIDDEN LAYER ACTIVATION FUNCTION\n",
    "    outinp=np.dot(hlayer_act,wout)+ bout\n",
    "    output = sigmoid(outinp)\n",
    "\n",
    "    outgrad = derivatives_sigmoid(output) \n",
    "    hiddengrad = derivatives_sigmoid(hlayer_act)\n",
    "    \n",
    "    EO = y-output                   #ERROR AT OUTPUT LAYER\n",
    "    d_output = EO* outgrad\n",
    "\n",
    "    EH = d_output.dot(wout.T)       #ERROR AT HIDDEN LAYER (TRANSPOSE => COZ REVERSE(BACK))\n",
    "    d_hiddenlayer = EH * hiddengrad\n",
    "\n",
    "    wout += hlayer_act.T.dot(d_output) *lr      #REMEMBER WOUT IS 3*1 MATRIX\n",
    "    wh += X.T.dot(d_hiddenlayer) *lr\n",
    "\n",
    "print(\"Input: \\n\" + str(X)) \n",
    "print(\"Actual Output: \\n\" + str(y))\n",
    "print(\"Predicted Output: \\n\" ,output)"
   ]
  },
  {
   "cell_type": "code",
   "execution_count": null,
   "id": "c0762972",
   "metadata": {},
   "outputs": [],
   "source": []
  }
 ],
 "metadata": {
  "kernelspec": {
   "display_name": "Python 3 (ipykernel)",
   "language": "python",
   "name": "python3"
  },
  "language_info": {
   "codemirror_mode": {
    "name": "ipython",
    "version": 3
   },
   "file_extension": ".py",
   "mimetype": "text/x-python",
   "name": "python",
   "nbconvert_exporter": "python",
   "pygments_lexer": "ipython3",
   "version": "3.9.7"
  }
 },
 "nbformat": 4,
 "nbformat_minor": 5
}
